{
 "cells": [
  {
   "cell_type": "markdown",
   "id": "harmful-rescue",
   "metadata": {},
   "source": [
    "# Scipy"
   ]
  },
  {
   "cell_type": "markdown",
   "id": "transparent-handbook",
   "metadata": {},
   "source": [
    "SciPy is a very useful scientific library and has very fast computational power. It has functionalities to perform linear algebraic operations. We perform all these operations on the input object and it gives the array as output.\n",
    "\n",
    "SciPy has all the features included in the NumPy linear algebra module and some extended functionality.\n",
    "\n",
    "The linalg module has specific functions for different types of operations."
   ]
  },
  {
   "cell_type": "markdown",
   "id": "based-botswana",
   "metadata": {},
   "source": [
    "Linear Algebra"
   ]
  },
  {
   "cell_type": "markdown",
   "id": "modular-kitty",
   "metadata": {},
   "source": [
    "Determinant of a Matrix"
   ]
  },
  {
   "cell_type": "code",
   "execution_count": 4,
   "id": "royal-movement",
   "metadata": {},
   "outputs": [],
   "source": [
    "# import numpy library\n",
    "import numpy as np\n",
    "A = np.array([[1,2,3],[4,5,6],[7,8,8]])"
   ]
  },
  {
   "cell_type": "code",
   "execution_count": 5,
   "id": "confirmed-matrix",
   "metadata": {},
   "outputs": [
    {
     "data": {
      "text/plain": [
       "3.0"
      ]
     },
     "execution_count": 5,
     "metadata": {},
     "output_type": "execute_result"
    }
   ],
   "source": [
    "# importing linalg function from scipy\n",
    "from scipy import linalg\n",
    "  \n",
    "# Compute the determinant of a matrix\n",
    "linalg.det(A)"
   ]
  },
  {
   "cell_type": "markdown",
   "id": "worthy-jimmy",
   "metadata": {},
   "source": [
    "Eigen values and eigen vectors of this matrix"
   ]
  },
  {
   "cell_type": "code",
   "execution_count": 7,
   "id": "double-emphasis",
   "metadata": {},
   "outputs": [
    {
     "name": "stdout",
     "output_type": "stream",
     "text": [
      "[15.55528261+0.j -1.41940876+0.j -0.13587385+0.j]\n"
     ]
    }
   ],
   "source": [
    "eigen_values, eigen_vectors = linalg.eig(A)\n",
    "print(eigen_values)"
   ]
  },
  {
   "cell_type": "code",
   "execution_count": 8,
   "id": "civilian-revolution",
   "metadata": {},
   "outputs": [
    {
     "name": "stdout",
     "output_type": "stream",
     "text": [
      "[[-0.24043423 -0.67468642  0.51853459]\n",
      " [-0.54694322 -0.23391616 -0.78895962]\n",
      " [-0.80190056  0.70005819  0.32964312]]\n"
     ]
    }
   ],
   "source": [
    "print(eigen_vectors)"
   ]
  },
  {
   "cell_type": "markdown",
   "id": "virgin-attention",
   "metadata": {},
   "source": [
    "Solving systems of linear equations"
   ]
  },
  {
   "cell_type": "code",
   "execution_count": 10,
   "id": "violent-bulgarian",
   "metadata": {},
   "outputs": [
    {
     "name": "stdout",
     "output_type": "stream",
     "text": [
      "[[2]\n",
      " [3]\n",
      " [5]]\n"
     ]
    }
   ],
   "source": [
    "v = np.array([[2],[3],[5]])\n",
    "print(v)\n"
   ]
  },
  {
   "cell_type": "code",
   "execution_count": 11,
   "id": "corresponding-gazette",
   "metadata": {},
   "outputs": [
    {
     "name": "stdout",
     "output_type": "stream",
     "text": [
      "[[-2.33333333]\n",
      " [ 3.66666667]\n",
      " [-1.        ]]\n"
     ]
    }
   ],
   "source": [
    "s = linalg.solve(A,v)\n",
    "print(s)"
   ]
  },
  {
   "cell_type": "markdown",
   "id": "explicit-subscription",
   "metadata": {},
   "source": [
    "Exponential and Trigonometric Functions:"
   ]
  },
  {
   "cell_type": "markdown",
   "id": "infrared-permit",
   "metadata": {},
   "source": [
    "SciPy’s Special Function package provides a number of functions through which you can find exponents and solve trigonometric problems."
   ]
  },
  {
   "cell_type": "code",
   "execution_count": 12,
   "id": "finnish-ancient",
   "metadata": {},
   "outputs": [
    {
     "name": "stdout",
     "output_type": "stream",
     "text": [
      "1000.0\n",
      "8.0\n",
      "1.0\n",
      "0.7071067811865475\n"
     ]
    }
   ],
   "source": [
    "from scipy import special\n",
    "a = special.exp10(3)\n",
    "print(a)\n",
    " \n",
    "b = special.exp2(3)\n",
    "print(b)\n",
    " \n",
    "c = special.sindg(90)\n",
    "print(c)\n",
    " \n",
    "d = special.cosdg(45)\n",
    "print(d)"
   ]
  },
  {
   "cell_type": "code",
   "execution_count": null,
   "id": "loose-decline",
   "metadata": {},
   "outputs": [],
   "source": []
  }
 ],
 "metadata": {
  "kernelspec": {
   "display_name": "Python 3",
   "language": "python",
   "name": "python3"
  },
  "language_info": {
   "codemirror_mode": {
    "name": "ipython",
    "version": 3
   },
   "file_extension": ".py",
   "mimetype": "text/x-python",
   "name": "python",
   "nbconvert_exporter": "python",
   "pygments_lexer": "ipython3",
   "version": "3.9.1"
  }
 },
 "nbformat": 4,
 "nbformat_minor": 5
}
